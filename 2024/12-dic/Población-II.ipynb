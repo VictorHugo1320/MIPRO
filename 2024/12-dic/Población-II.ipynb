{
 "cells": [
  {
   "cell_type": "code",
   "execution_count": 15,
   "id": "7f8ea5df-81a9-4b26-a0c1-932a952b6f1b",
   "metadata": {},
   "outputs": [],
   "source": [
    "#1. Vamos a leer el archivo de excel\n",
    "import pandas as pd\n",
    "\n",
    "# Ruta del archivo Excel\n",
    "# Especificar la ruta del archivo Excel\n",
    "ruta = r\"C:\\Users\\victo\\OneDrive\\Documentos\\MIPRO\\2024\\12-Diciembre\\Tabulado_cantonal.xlsx\"\n",
    "\n",
    "# Leer todas las pestañas del archivo excepto \"Indice\"\n",
    "hojas = pd.ExcelFile(ruta).sheet_names\n",
    "hojas = [hoja for hoja in hojas if hoja != \"Indice\"]\n",
    "\n",
    "# Lista para almacenar los dataframes procesados\n",
    "dataframes = []\n",
    "\n",
    "# Procesar cada pestaña\n",
    "for i, hoja in enumerate(hojas):\n",
    "    # Leer el archivo Excel\n",
    "    df = pd.read_excel(ruta, sheet_name=hoja, skiprows=11)\n",
    "    \n",
    "    # Guardar el nombre de la provincia en una variable (asegurarse de convertir a string)\n",
    "    prov = str(df.iloc[2, 1]).strip()\n",
    "    \n",
    "    # Renombrar las columnas\n",
    "    df = df.rename(columns={\n",
    "        \"Unnamed: 0\": \"Provincia\", \n",
    "        \"Nota: Los valores provinciales y cantonales se encuentran al 30 de junio de cada año.\": \"Cantón\"\n",
    "    })\n",
    "    \n",
    "    # Reemplazar la columna Provincia\n",
    "    df[\"Provincia\"] = prov\n",
    "    \n",
    "    # Eliminar las filas 1, 2 y 3 (índices 0, 1, y 2)\n",
    "    df = df.drop([0, 1, 2])\n",
    "    \n",
    "    # Crear un diccionario de renombramiento\n",
    "    nuevos_nombres = {f\"Unnamed: {i}\": str(2010 + i - 2) for i in range(2, 28)}\n",
    "    \n",
    "    # Renombrar las columnas usando el diccionario\n",
    "    df = df.rename(columns=nuevos_nombres)\n",
    "    \n",
    "    # Necesito convertir todas las columnas desde 2010 hasta 2035 en float64\n",
    "    convertir = [str(año) for año in range(2010, 2035 + 1)]\n",
    "    \n",
    "    # Convertir las columnas a float64\n",
    "    df[convertir] = df[convertir].astype('float64')\n",
    "    \n",
    "    # Usar pd.melt para transformar el dataframe\n",
    "    df = pd.melt(df, id_vars=[\"Provincia\", \"Cantón\"], var_name=\"Año\", value_name=\"Población Estimada\")\n",
    "    \n",
    "    # Añadir el dataframe a la lista\n",
    "    dataframes.append(df)\n",
    "\n",
    "# Concatenar todos los dataframes\n",
    "resultado = pd.concat(dataframes, ignore_index=True)\n",
    "\n",
    "# Guardar el resultado en un nuevo archivo Excel (opcional)\n",
    "resultado.to_excel(\"resultado.xlsx\", index=False)"
   ]
  },
  {
   "cell_type": "code",
   "execution_count": 21,
   "id": "fbc5b4b6-d232-42bf-ab63-fd02d842a4ef",
   "metadata": {},
   "outputs": [
    {
     "name": "stdout",
     "output_type": "stream",
     "text": [
      "La suma de la columna 'Población Estimada' para el año 2035 en la provincia de Zomora Chinchipe es: 131593.0\n"
     ]
    }
   ],
   "source": [
    "df_2035_z = resultado[(resultado[\"Año\"] == \"2035\") & (resultado[\"Provincia\"] == \"Zamora Chinchipe\")] # Calcular la suma de la columna \"Población Estimada\" para esa \n",
    "suma_poblacion_2035_z = df_2035_z[\"Población Estimada\"].sum()\n",
    "\n",
    "print(f\"La suma de la columna 'Población Estimada' para el año 2035 en la provincia de Zomora Chinchipe es: {suma_poblacion_2035_z}\")\n"
   ]
  }
 ],
 "metadata": {
  "kernelspec": {
   "display_name": "Python 3 (ipykernel)",
   "language": "python",
   "name": "python3"
  },
  "language_info": {
   "codemirror_mode": {
    "name": "ipython",
    "version": 3
   },
   "file_extension": ".py",
   "mimetype": "text/x-python",
   "name": "python",
   "nbconvert_exporter": "python",
   "pygments_lexer": "ipython3",
   "version": "3.11.7"
  }
 },
 "nbformat": 4,
 "nbformat_minor": 5
}
